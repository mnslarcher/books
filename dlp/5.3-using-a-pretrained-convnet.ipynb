{
 "cells": [
  {
   "cell_type": "code",
   "execution_count": 1,
   "metadata": {},
   "outputs": [
    {
     "name": "stderr",
     "output_type": "stream",
     "text": [
      "/home/ubuntu/anaconda3/envs/tensorflow_p36/lib/python3.6/site-packages/h5py/__init__.py:36: FutureWarning: Conversion of the second argument of issubdtype from `float` to `np.floating` is deprecated. In future, it will be treated as `np.float64 == np.dtype(float).type`.\n",
      "  from ._conv import register_converters as _register_converters\n",
      "Using TensorFlow backend.\n"
     ]
    },
    {
     "data": {
      "text/plain": [
       "'2.2.0'"
      ]
     },
     "execution_count": 1,
     "metadata": {},
     "output_type": "execute_result"
    }
   ],
   "source": [
    "import keras\n",
    "keras.__version__"
   ]
  },
  {
   "cell_type": "code",
   "execution_count": 2,
   "metadata": {},
   "outputs": [],
   "source": [
    "from keras.applications import VGG16\n",
    "\n",
    "conv_base = VGG16(weights='imagenet',\n",
    "                  include_top=False,\n",
    "                  input_shape=(150, 150, 3))"
   ]
  },
  {
   "cell_type": "code",
   "execution_count": 3,
   "metadata": {},
   "outputs": [
    {
     "name": "stdout",
     "output_type": "stream",
     "text": [
      "_________________________________________________________________\n",
      "Layer (type)                 Output Shape              Param #   \n",
      "=================================================================\n",
      "input_1 (InputLayer)         (None, 150, 150, 3)       0         \n",
      "_________________________________________________________________\n",
      "block1_conv1 (Conv2D)        (None, 150, 150, 64)      1792      \n",
      "_________________________________________________________________\n",
      "block1_conv2 (Conv2D)        (None, 150, 150, 64)      36928     \n",
      "_________________________________________________________________\n",
      "block1_pool (MaxPooling2D)   (None, 75, 75, 64)        0         \n",
      "_________________________________________________________________\n",
      "block2_conv1 (Conv2D)        (None, 75, 75, 128)       73856     \n",
      "_________________________________________________________________\n",
      "block2_conv2 (Conv2D)        (None, 75, 75, 128)       147584    \n",
      "_________________________________________________________________\n",
      "block2_pool (MaxPooling2D)   (None, 37, 37, 128)       0         \n",
      "_________________________________________________________________\n",
      "block3_conv1 (Conv2D)        (None, 37, 37, 256)       295168    \n",
      "_________________________________________________________________\n",
      "block3_conv2 (Conv2D)        (None, 37, 37, 256)       590080    \n",
      "_________________________________________________________________\n",
      "block3_conv3 (Conv2D)        (None, 37, 37, 256)       590080    \n",
      "_________________________________________________________________\n",
      "block3_pool (MaxPooling2D)   (None, 18, 18, 256)       0         \n",
      "_________________________________________________________________\n",
      "block4_conv1 (Conv2D)        (None, 18, 18, 512)       1180160   \n",
      "_________________________________________________________________\n",
      "block4_conv2 (Conv2D)        (None, 18, 18, 512)       2359808   \n",
      "_________________________________________________________________\n",
      "block4_conv3 (Conv2D)        (None, 18, 18, 512)       2359808   \n",
      "_________________________________________________________________\n",
      "block4_pool (MaxPooling2D)   (None, 9, 9, 512)         0         \n",
      "_________________________________________________________________\n",
      "block5_conv1 (Conv2D)        (None, 9, 9, 512)         2359808   \n",
      "_________________________________________________________________\n",
      "block5_conv2 (Conv2D)        (None, 9, 9, 512)         2359808   \n",
      "_________________________________________________________________\n",
      "block5_conv3 (Conv2D)        (None, 9, 9, 512)         2359808   \n",
      "_________________________________________________________________\n",
      "block5_pool (MaxPooling2D)   (None, 4, 4, 512)         0         \n",
      "=================================================================\n",
      "Total params: 14,714,688\n",
      "Trainable params: 14,714,688\n",
      "Non-trainable params: 0\n",
      "_________________________________________________________________\n"
     ]
    }
   ],
   "source": [
    "conv_base.summary()"
   ]
  },
  {
   "cell_type": "code",
   "execution_count": 4,
   "metadata": {},
   "outputs": [
    {
     "name": "stdout",
     "output_type": "stream",
     "text": [
      "Found 2000 images belonging to 2 classes.\n",
      "Found 1000 images belonging to 2 classes.\n",
      "Found 1000 images belonging to 2 classes.\n"
     ]
    }
   ],
   "source": [
    "import os\n",
    "import numpy as np\n",
    "from keras.preprocessing.image import ImageDataGenerator\n",
    "\n",
    "base_dir = '../datasets/cats_and_dogs_small'\n",
    "\n",
    "train_dir = os.path.join(base_dir, 'train')\n",
    "validation_dir = os.path.join(base_dir, 'validation')\n",
    "test_dir = os.path.join(base_dir, 'test')\n",
    "\n",
    "datagen = ImageDataGenerator(rescale=1./255)\n",
    "batch_size = 20\n",
    "\n",
    "\n",
    "def extract_features(directory, sample_count):\n",
    "    features = np.zeros(shape=(sample_count, 4, 4, 512))\n",
    "    labels = np.zeros(shape=(sample_count))\n",
    "    generator = datagen.flow_from_directory(\n",
    "        directory,\n",
    "        target_size=(150, 150),\n",
    "        batch_size=batch_size,\n",
    "        class_mode='binary')\n",
    "    i = 0\n",
    "    for inputs_batch, labels_batch in generator:\n",
    "        features_batch = conv_base.predict(inputs_batch)\n",
    "        features[i * batch_size:(i + 1) * batch_size] = features_batch\n",
    "        labels[i * batch_size:(i + 1) * batch_size] = labels_batch\n",
    "        i += 1\n",
    "        if i * batch_size >= sample_count:\n",
    "            break\n",
    "    return features, labels\n",
    "\n",
    "\n",
    "train_features, train_labels = extract_features(train_dir, 2000)\n",
    "validation_features, validation_labels = extract_features(validation_dir, 1000)\n",
    "test_features, test_labels = extract_features(test_dir, 1000)"
   ]
  },
  {
   "cell_type": "code",
   "execution_count": 5,
   "metadata": {},
   "outputs": [],
   "source": [
    "train_features = np.reshape(train_features, (2000, 4 * 4 * 512))\n",
    "validation_features = np.reshape(validation_features, (1000, 4 * 4 * 512))\n",
    "test_features = np.reshape(test_features, (1000, 4 * 4 * 512))"
   ]
  },
  {
   "cell_type": "code",
   "execution_count": 6,
   "metadata": {},
   "outputs": [
    {
     "name": "stdout",
     "output_type": "stream",
     "text": [
      "Train on 2000 samples, validate on 1000 samples\n",
      "Epoch 1/30\n",
      "2000/2000 [==============================] - 1s 516us/step - loss: 0.6186 - acc: 0.6485 - val_loss: 0.4524 - val_acc: 0.8200\n",
      "Epoch 2/30\n",
      "2000/2000 [==============================] - 1s 293us/step - loss: 0.4399 - acc: 0.8050 - val_loss: 0.3695 - val_acc: 0.8620\n",
      "Epoch 3/30\n",
      "2000/2000 [==============================] - 1s 289us/step - loss: 0.3571 - acc: 0.8465 - val_loss: 0.3271 - val_acc: 0.8810\n",
      "Epoch 4/30\n",
      "2000/2000 [==============================] - 1s 287us/step - loss: 0.3168 - acc: 0.8660 - val_loss: 0.3035 - val_acc: 0.8860\n",
      "Epoch 5/30\n",
      "2000/2000 [==============================] - 1s 285us/step - loss: 0.2922 - acc: 0.8890 - val_loss: 0.2877 - val_acc: 0.8940\n",
      "Epoch 6/30\n",
      "2000/2000 [==============================] - 1s 284us/step - loss: 0.2685 - acc: 0.8985 - val_loss: 0.2761 - val_acc: 0.8980\n",
      "Epoch 7/30\n",
      "2000/2000 [==============================] - 1s 283us/step - loss: 0.2470 - acc: 0.9030 - val_loss: 0.2986 - val_acc: 0.8660\n",
      "Epoch 8/30\n",
      "2000/2000 [==============================] - 1s 283us/step - loss: 0.2303 - acc: 0.9050 - val_loss: 0.2592 - val_acc: 0.9010\n",
      "Epoch 9/30\n",
      "2000/2000 [==============================] - 1s 284us/step - loss: 0.2111 - acc: 0.9185 - val_loss: 0.2542 - val_acc: 0.9000\n",
      "Epoch 10/30\n",
      "2000/2000 [==============================] - 1s 284us/step - loss: 0.2038 - acc: 0.9225 - val_loss: 0.2503 - val_acc: 0.9020\n",
      "Epoch 11/30\n",
      "2000/2000 [==============================] - 1s 283us/step - loss: 0.1964 - acc: 0.9270 - val_loss: 0.2486 - val_acc: 0.8980\n",
      "Epoch 12/30\n",
      "2000/2000 [==============================] - 1s 282us/step - loss: 0.1852 - acc: 0.9305 - val_loss: 0.2531 - val_acc: 0.8990\n",
      "Epoch 13/30\n",
      "2000/2000 [==============================] - 1s 293us/step - loss: 0.1782 - acc: 0.9330 - val_loss: 0.2441 - val_acc: 0.9020\n",
      "Epoch 14/30\n",
      "2000/2000 [==============================] - 1s 283us/step - loss: 0.1755 - acc: 0.9350 - val_loss: 0.2522 - val_acc: 0.9020\n",
      "Epoch 15/30\n",
      "2000/2000 [==============================] - 1s 282us/step - loss: 0.1568 - acc: 0.9440 - val_loss: 0.2422 - val_acc: 0.8970\n",
      "Epoch 16/30\n",
      "2000/2000 [==============================] - 1s 282us/step - loss: 0.1622 - acc: 0.9415 - val_loss: 0.2461 - val_acc: 0.9050\n",
      "Epoch 17/30\n",
      "2000/2000 [==============================] - 1s 282us/step - loss: 0.1521 - acc: 0.9450 - val_loss: 0.2422 - val_acc: 0.9020\n",
      "Epoch 18/30\n",
      "2000/2000 [==============================] - 1s 284us/step - loss: 0.1403 - acc: 0.9520 - val_loss: 0.2454 - val_acc: 0.9040\n",
      "Epoch 19/30\n",
      "2000/2000 [==============================] - 1s 284us/step - loss: 0.1435 - acc: 0.9545 - val_loss: 0.2406 - val_acc: 0.9040\n",
      "Epoch 20/30\n",
      "2000/2000 [==============================] - 1s 282us/step - loss: 0.1317 - acc: 0.9510 - val_loss: 0.2378 - val_acc: 0.9000\n",
      "Epoch 21/30\n",
      "2000/2000 [==============================] - 1s 284us/step - loss: 0.1249 - acc: 0.9585 - val_loss: 0.2385 - val_acc: 0.8990\n",
      "Epoch 22/30\n",
      "2000/2000 [==============================] - 1s 289us/step - loss: 0.1235 - acc: 0.9580 - val_loss: 0.2429 - val_acc: 0.9020\n",
      "Epoch 23/30\n",
      "2000/2000 [==============================] - 1s 288us/step - loss: 0.1226 - acc: 0.9580 - val_loss: 0.2485 - val_acc: 0.9010\n",
      "Epoch 24/30\n",
      "2000/2000 [==============================] - 1s 284us/step - loss: 0.1112 - acc: 0.9620 - val_loss: 0.2457 - val_acc: 0.9060\n",
      "Epoch 25/30\n",
      "2000/2000 [==============================] - 1s 283us/step - loss: 0.1115 - acc: 0.9610 - val_loss: 0.2384 - val_acc: 0.9000\n",
      "Epoch 26/30\n",
      "2000/2000 [==============================] - 1s 283us/step - loss: 0.1056 - acc: 0.9650 - val_loss: 0.2409 - val_acc: 0.9010\n",
      "Epoch 27/30\n",
      "2000/2000 [==============================] - 1s 284us/step - loss: 0.1002 - acc: 0.9660 - val_loss: 0.2421 - val_acc: 0.9030\n",
      "Epoch 28/30\n",
      "2000/2000 [==============================] - 1s 284us/step - loss: 0.0893 - acc: 0.9730 - val_loss: 0.2395 - val_acc: 0.9010\n",
      "Epoch 29/30\n",
      "2000/2000 [==============================] - 1s 285us/step - loss: 0.0920 - acc: 0.9745 - val_loss: 0.2419 - val_acc: 0.9000\n",
      "Epoch 30/30\n",
      "2000/2000 [==============================] - 1s 286us/step - loss: 0.0921 - acc: 0.9700 - val_loss: 0.2451 - val_acc: 0.9060\n"
     ]
    }
   ],
   "source": [
    "from keras import models\n",
    "from keras import layers\n",
    "from keras import optimizers\n",
    "\n",
    "model = models.Sequential()\n",
    "model.add(layers.Dense(256, activation='relu', input_dim=4 * 4 * 512))\n",
    "model.add(layers.Dropout(0.5))\n",
    "model.add(layers.Dense(1, activation='sigmoid'))\n",
    "\n",
    "model.compile(optimizer=optimizers.RMSprop(lr=2e-5),\n",
    "              loss='binary_crossentropy',\n",
    "              metrics=['acc'])\n",
    "\n",
    "history = model.fit(train_features, train_labels,\n",
    "                    epochs=30,\n",
    "                    batch_size=20,\n",
    "                    validation_data=(validation_features, validation_labels))"
   ]
  },
  {
   "cell_type": "code",
   "execution_count": 7,
   "metadata": {},
   "outputs": [],
   "source": [
    "import matplotlib.pyplot as plt"
   ]
  },
  {
   "cell_type": "code",
   "execution_count": 8,
   "metadata": {},
   "outputs": [
    {
     "data": {
      "image/png": "[encoded data removed]",
      "text/plain": [
       "<Figure size 432x288 with 1 Axes>"
      ]
     },
     "metadata": {},
     "output_type": "display_data"
    },
    {
     "data": {
      "image/png": "[encoded data removed]",
      "text/plain": [
       "<Figure size 432x288 with 1 Axes>"
      ]
     },
     "metadata": {},
     "output_type": "display_data"
    }
   ],
   "source": [
    "acc = history.history['acc']\n",
    "val_acc = history.history['val_acc']\n",
    "loss = history.history['loss']\n",
    "val_loss = history.history['val_loss']\n",
    "\n",
    "epochs = range(len(acc))\n",
    "\n",
    "plt.plot(epochs, acc, 'bo', label='Training acc')\n",
    "plt.plot(epochs, val_acc, 'b', label='Validation acc')\n",
    "plt.title('Training and validation accuracy')\n",
    "plt.legend()\n",
    "\n",
    "plt.figure()\n",
    "\n",
    "plt.plot(epochs, loss, 'bo', label='Training loss')\n",
    "plt.plot(epochs, val_loss, 'b', label='Validation loss')\n",
    "plt.title('Training and validation loss')\n",
    "plt.legend()\n",
    "\n",
    "plt.show()"
   ]
  },
  {
   "cell_type": "code",
   "execution_count": 9,
   "metadata": {},
   "outputs": [],
   "source": [
    "from keras import models\n",
    "from keras import layers\n",
    "\n",
    "model = models.Sequential()\n",
    "model.add(conv_base)\n",
    "model.add(layers.Flatten())\n",
    "model.add(layers.Dense(256, activation='relu'))\n",
    "model.add(layers.Dense(1, activation='sigmoid'))"
   ]
  },
  {
   "cell_type": "code",
   "execution_count": 10,
   "metadata": {},
   "outputs": [
    {
     "name": "stdout",
     "output_type": "stream",
     "text": [
      "_________________________________________________________________\n",
      "Layer (type)                 Output Shape              Param #   \n",
      "=================================================================\n",
      "vgg16 (Model)                (None, 4, 4, 512)         14714688  \n",
      "_________________________________________________________________\n",
      "flatten_1 (Flatten)          (None, 8192)              0         \n",
      "_________________________________________________________________\n",
      "dense_3 (Dense)              (None, 256)               2097408   \n",
      "_________________________________________________________________\n",
      "dense_4 (Dense)              (None, 1)                 257       \n",
      "=================================================================\n",
      "Total params: 16,812,353\n",
      "Trainable params: 16,812,353\n",
      "Non-trainable params: 0\n",
      "_________________________________________________________________\n"
     ]
    }
   ],
   "source": [
    "model.summary()"
   ]
  },
  {
   "cell_type": "code",
   "execution_count": 12,
   "metadata": {},
   "outputs": [
    {
     "name": "stdout",
     "output_type": "stream",
     "text": [
      "This is the number of trainable weights before freezing the conv base: 30\n"
     ]
    }
   ],
   "source": [
    "print('This is the number of trainable weights '\n",
    "      'before freezing the conv base:', len(model.trainable_weights))"
   ]
  },
  {
   "cell_type": "code",
   "execution_count": 13,
   "metadata": {},
   "outputs": [],
   "source": [
    "conv_base.trainable = False"
   ]
  },
  {
   "cell_type": "code",
   "execution_count": 15,
   "metadata": {},
   "outputs": [
    {
     "name": "stdout",
     "output_type": "stream",
     "text": [
      "This is the number of trainable weights after freezing the conv base: 4\n"
     ]
    }
   ],
   "source": [
    "print('This is the number of trainable weights '\n",
    "      'after freezing the conv base:', len(model.trainable_weights))"
   ]
  },
  {
   "cell_type": "code",
   "execution_count": 16,
   "metadata": {},
   "outputs": [
    {
     "name": "stdout",
     "output_type": "stream",
     "text": [
      "Found 2000 images belonging to 2 classes.\n",
      "Found 1000 images belonging to 2 classes.\n",
      "Epoch 1/30\n",
      " - 27s - loss: 0.5800 - acc: 0.6995 - val_loss: 0.4415 - val_acc: 0.8180\n",
      "Epoch 2/30\n",
      " - 25s - loss: 0.4866 - acc: 0.7705 - val_loss: 0.3611 - val_acc: 0.8640\n",
      "Epoch 3/30\n",
      " - 25s - loss: 0.4358 - acc: 0.8105 - val_loss: 0.3376 - val_acc: 0.8570\n",
      "Epoch 4/30\n",
      " - 26s - loss: 0.3966 - acc: 0.8195 - val_loss: 0.3027 - val_acc: 0.8850\n",
      "Epoch 5/30\n",
      " - 25s - loss: 0.3940 - acc: 0.8280 - val_loss: 0.2999 - val_acc: 0.8710\n",
      "Epoch 6/30\n",
      " - 25s - loss: 0.3679 - acc: 0.8345 - val_loss: 0.2843 - val_acc: 0.8850\n",
      "Epoch 7/30\n",
      " - 25s - loss: 0.3655 - acc: 0.8340 - val_loss: 0.2701 - val_acc: 0.8870\n",
      "Epoch 8/30\n",
      " - 25s - loss: 0.3472 - acc: 0.8555 - val_loss: 0.2657 - val_acc: 0.8910\n",
      "Epoch 9/30\n",
      " - 25s - loss: 0.3526 - acc: 0.8480 - val_loss: 0.2646 - val_acc: 0.8920\n",
      "Epoch 10/30\n",
      " - 26s - loss: 0.3334 - acc: 0.8655 - val_loss: 0.2582 - val_acc: 0.8930\n",
      "Epoch 11/30\n",
      " - 25s - loss: 0.3339 - acc: 0.8620 - val_loss: 0.2700 - val_acc: 0.8900\n",
      "Epoch 12/30\n",
      " - 25s - loss: 0.3239 - acc: 0.8495 - val_loss: 0.2546 - val_acc: 0.9010\n",
      "Epoch 13/30\n",
      " - 25s - loss: 0.3116 - acc: 0.8550 - val_loss: 0.2490 - val_acc: 0.8990\n",
      "Epoch 14/30\n",
      " - 25s - loss: 0.3212 - acc: 0.8620 - val_loss: 0.2479 - val_acc: 0.8950\n",
      "Epoch 15/30\n",
      " - 25s - loss: 0.3080 - acc: 0.8585 - val_loss: 0.2507 - val_acc: 0.8960\n",
      "Epoch 16/30\n",
      " - 25s - loss: 0.3067 - acc: 0.8625 - val_loss: 0.2509 - val_acc: 0.8960\n",
      "Epoch 17/30\n",
      " - 25s - loss: 0.3129 - acc: 0.8585 - val_loss: 0.2516 - val_acc: 0.8950\n",
      "Epoch 18/30\n",
      " - 25s - loss: 0.3044 - acc: 0.8650 - val_loss: 0.2457 - val_acc: 0.8940\n",
      "Epoch 19/30\n",
      " - 25s - loss: 0.3086 - acc: 0.8660 - val_loss: 0.2469 - val_acc: 0.8970\n",
      "Epoch 20/30\n",
      " - 25s - loss: 0.2978 - acc: 0.8735 - val_loss: 0.2506 - val_acc: 0.8950\n",
      "Epoch 21/30\n",
      " - 26s - loss: 0.2956 - acc: 0.8710 - val_loss: 0.2454 - val_acc: 0.8990\n",
      "Epoch 22/30\n",
      " - 25s - loss: 0.2986 - acc: 0.8675 - val_loss: 0.2410 - val_acc: 0.9000\n",
      "Epoch 23/30\n",
      " - 25s - loss: 0.2950 - acc: 0.8775 - val_loss: 0.2412 - val_acc: 0.8990\n",
      "Epoch 24/30\n",
      " - 25s - loss: 0.2761 - acc: 0.8850 - val_loss: 0.2398 - val_acc: 0.9000\n",
      "Epoch 25/30\n",
      " - 26s - loss: 0.2900 - acc: 0.8735 - val_loss: 0.2446 - val_acc: 0.8970\n",
      "Epoch 26/30\n",
      " - 25s - loss: 0.2802 - acc: 0.8830 - val_loss: 0.2388 - val_acc: 0.9040\n",
      "Epoch 27/30\n",
      " - 25s - loss: 0.2877 - acc: 0.8725 - val_loss: 0.2373 - val_acc: 0.9020\n",
      "Epoch 28/30\n",
      " - 25s - loss: 0.2946 - acc: 0.8750 - val_loss: 0.2347 - val_acc: 0.8980\n",
      "Epoch 29/30\n",
      " - 25s - loss: 0.2752 - acc: 0.8850 - val_loss: 0.2365 - val_acc: 0.9060\n",
      "Epoch 30/30\n",
      " - 25s - loss: 0.2844 - acc: 0.8765 - val_loss: 0.2363 - val_acc: 0.9030\n"
     ]
    }
   ],
   "source": [
    "from keras.preprocessing.image import ImageDataGenerator\n",
    "\n",
    "train_datagen = ImageDataGenerator(\n",
    "    rescale=1./255,\n",
    "    rotation_range=40,\n",
    "    width_shift_range=0.2,\n",
    "    height_shift_range=0.2,\n",
    "    shear_range=0.2,\n",
    "    zoom_range=0.2,\n",
    "    horizontal_flip=True,\n",
    "    fill_mode='nearest')\n",
    "\n",
    "test_datagen = ImageDataGenerator(rescale=1./255)\n",
    "\n",
    "train_generator = train_datagen.flow_from_directory(\n",
    "    train_dir,\n",
    "    target_size=(150, 150),\n",
    "    batch_size=20,\n",
    "    class_mode='binary')\n",
    "\n",
    "validation_generator = test_datagen.flow_from_directory(\n",
    "    validation_dir,\n",
    "    target_size=(150, 150),\n",
    "    batch_size=20,\n",
    "    class_mode='binary')\n",
    "\n",
    "model.compile(loss='binary_crossentropy',\n",
    "              optimizer=optimizers.RMSprop(lr=2e-5),\n",
    "              metrics=['acc'])\n",
    "\n",
    "history = model.fit_generator(\n",
    "    train_generator,\n",
    "    steps_per_epoch=100,\n",
    "    epochs=30,\n",
    "    validation_data=validation_generator,\n",
    "    validation_steps=50,\n",
    "    verbose=2)"
   ]
  },
  {
   "cell_type": "code",
   "execution_count": 18,
   "metadata": {},
   "outputs": [],
   "source": [
    "model.save('cats_and_dogs_small_3.h5')"
   ]
  },
  {
   "cell_type": "code",
   "execution_count": 17,
   "metadata": {},
   "outputs": [
    {
     "data": {
      "image/png": "[encoded data removed]",
      "text/plain": [
       "<Figure size 432x288 with 1 Axes>"
      ]
     },
     "metadata": {},
     "output_type": "display_data"
    },
    {
     "data": {
      "image/png": "[encoded data removed]",
      "text/plain": [
       "<Figure size 432x288 with 1 Axes>"
      ]
     },
     "metadata": {},
     "output_type": "display_data"
    }
   ],
   "source": [
    "acc = history.history['acc']\n",
    "val_acc = history.history['val_acc']\n",
    "loss = history.history['loss']\n",
    "val_loss = history.history['val_loss']\n",
    "\n",
    "epochs = range(len(acc))\n",
    "\n",
    "plt.plot(epochs, acc, 'bo', label='Training acc')\n",
    "plt.plot(epochs, val_acc, 'b', label='Validation acc')\n",
    "plt.title('Training and validation accuracy')\n",
    "plt.legend()\n",
    "\n",
    "plt.figure()\n",
    "\n",
    "plt.plot(epochs, loss, 'bo', label='Training loss')\n",
    "plt.plot(epochs, val_loss, 'b', label='Validation loss')\n",
    "plt.title('Training and validation loss')\n",
    "plt.legend()\n",
    "\n",
    "plt.show()"
   ]
  },
  {
   "cell_type": "code",
   "execution_count": 19,
   "metadata": {},
   "outputs": [
    {
     "name": "stdout",
     "output_type": "stream",
     "text": [
      "_________________________________________________________________\n",
      "Layer (type)                 Output Shape              Param #   \n",
      "=================================================================\n",
      "input_1 (InputLayer)         (None, 150, 150, 3)       0         \n",
      "_________________________________________________________________\n",
      "block1_conv1 (Conv2D)        (None, 150, 150, 64)      1792      \n",
      "_________________________________________________________________\n",
      "block1_conv2 (Conv2D)        (None, 150, 150, 64)      36928     \n",
      "_________________________________________________________________\n",
      "block1_pool (MaxPooling2D)   (None, 75, 75, 64)        0         \n",
      "_________________________________________________________________\n",
      "block2_conv1 (Conv2D)        (None, 75, 75, 128)       73856     \n",
      "_________________________________________________________________\n",
      "block2_conv2 (Conv2D)        (None, 75, 75, 128)       147584    \n",
      "_________________________________________________________________\n",
      "block2_pool (MaxPooling2D)   (None, 37, 37, 128)       0         \n",
      "_________________________________________________________________\n",
      "block3_conv1 (Conv2D)        (None, 37, 37, 256)       295168    \n",
      "_________________________________________________________________\n",
      "block3_conv2 (Conv2D)        (None, 37, 37, 256)       590080    \n",
      "_________________________________________________________________\n",
      "block3_conv3 (Conv2D)        (None, 37, 37, 256)       590080    \n",
      "_________________________________________________________________\n",
      "block3_pool (MaxPooling2D)   (None, 18, 18, 256)       0         \n",
      "_________________________________________________________________\n",
      "block4_conv1 (Conv2D)        (None, 18, 18, 512)       1180160   \n",
      "_________________________________________________________________\n",
      "block4_conv2 (Conv2D)        (None, 18, 18, 512)       2359808   \n",
      "_________________________________________________________________\n",
      "block4_conv3 (Conv2D)        (None, 18, 18, 512)       2359808   \n",
      "_________________________________________________________________\n",
      "block4_pool (MaxPooling2D)   (None, 9, 9, 512)         0         \n",
      "_________________________________________________________________\n",
      "block5_conv1 (Conv2D)        (None, 9, 9, 512)         2359808   \n",
      "_________________________________________________________________\n",
      "block5_conv2 (Conv2D)        (None, 9, 9, 512)         2359808   \n",
      "_________________________________________________________________\n",
      "block5_conv3 (Conv2D)        (None, 9, 9, 512)         2359808   \n",
      "_________________________________________________________________\n",
      "block5_pool (MaxPooling2D)   (None, 4, 4, 512)         0         \n",
      "=================================================================\n",
      "Total params: 14,714,688\n",
      "Trainable params: 0\n",
      "Non-trainable params: 14,714,688\n",
      "_________________________________________________________________\n"
     ]
    }
   ],
   "source": [
    "conv_base.summary()"
   ]
  },
  {
   "cell_type": "code",
   "execution_count": 21,
   "metadata": {},
   "outputs": [],
   "source": [
    "conv_base.trainable = True\n",
    "\n",
    "set_trainable = False\n",
    "\n",
    "for layer in conv_base.layers:\n",
    "    if layer.name == 'block5_conv1':\n",
    "        set_trainable = True\n",
    "    if set_trainable:\n",
    "        layer.trainable = True\n",
    "    else:\n",
    "        layer.trainable = False"
   ]
  },
  {
   "cell_type": "code",
   "execution_count": 22,
   "metadata": {},
   "outputs": [
    {
     "name": "stdout",
     "output_type": "stream",
     "text": [
      "Epoch 1/100\n",
      "100/100 [==============================] - 28s 277ms/step - loss: 0.2777 - acc: 0.8725 - val_loss: 0.2200 - val_acc: 0.9160\n",
      "Epoch 2/100\n",
      "100/100 [==============================] - 26s 258ms/step - loss: 0.2632 - acc: 0.8890 - val_loss: 0.2294 - val_acc: 0.9020\n",
      "Epoch 3/100\n",
      "100/100 [==============================] - 26s 258ms/step - loss: 0.2261 - acc: 0.9010 - val_loss: 0.2025 - val_acc: 0.9250\n",
      "Epoch 4/100\n",
      "100/100 [==============================] - 25s 254ms/step - loss: 0.2240 - acc: 0.9015 - val_loss: 0.2151 - val_acc: 0.9170\n",
      "Epoch 5/100\n",
      "100/100 [==============================] - 26s 256ms/step - loss: 0.2149 - acc: 0.9115 - val_loss: 0.1848 - val_acc: 0.9270\n",
      "Epoch 6/100\n",
      "100/100 [==============================] - 25s 254ms/step - loss: 0.1883 - acc: 0.9250 - val_loss: 0.1971 - val_acc: 0.9270\n",
      "Epoch 7/100\n",
      "100/100 [==============================] - 25s 255ms/step - loss: 0.1763 - acc: 0.9280 - val_loss: 0.1887 - val_acc: 0.9290\n",
      "Epoch 8/100\n",
      "100/100 [==============================] - 25s 254ms/step - loss: 0.1744 - acc: 0.9345 - val_loss: 0.1981 - val_acc: 0.9320\n",
      "Epoch 9/100\n",
      "100/100 [==============================] - 25s 254ms/step - loss: 0.1716 - acc: 0.9325 - val_loss: 0.1877 - val_acc: 0.9310\n",
      "Epoch 10/100\n",
      "100/100 [==============================] - 25s 254ms/step - loss: 0.1709 - acc: 0.9230 - val_loss: 0.1759 - val_acc: 0.9300\n",
      "Epoch 11/100\n",
      "100/100 [==============================] - 25s 253ms/step - loss: 0.1491 - acc: 0.9310 - val_loss: 0.2192 - val_acc: 0.9190\n",
      "Epoch 12/100\n",
      "100/100 [==============================] - 25s 254ms/step - loss: 0.1467 - acc: 0.9435 - val_loss: 0.1821 - val_acc: 0.9370\n",
      "Epoch 13/100\n",
      "100/100 [==============================] - 26s 259ms/step - loss: 0.1263 - acc: 0.9545 - val_loss: 0.2014 - val_acc: 0.9290\n",
      "Epoch 14/100\n",
      "100/100 [==============================] - 26s 256ms/step - loss: 0.1243 - acc: 0.9465 - val_loss: 0.1938 - val_acc: 0.9330\n",
      "Epoch 15/100\n",
      "100/100 [==============================] - 25s 253ms/step - loss: 0.1292 - acc: 0.9505 - val_loss: 0.1792 - val_acc: 0.9350\n",
      "Epoch 16/100\n",
      "100/100 [==============================] - 25s 253ms/step - loss: 0.1112 - acc: 0.9535 - val_loss: 0.1859 - val_acc: 0.9330\n",
      "Epoch 17/100\n",
      "100/100 [==============================] - 25s 253ms/step - loss: 0.1173 - acc: 0.9500 - val_loss: 0.1736 - val_acc: 0.9290\n",
      "Epoch 18/100\n",
      "100/100 [==============================] - 26s 256ms/step - loss: 0.1007 - acc: 0.9590 - val_loss: 0.1667 - val_acc: 0.9380\n",
      "Epoch 19/100\n",
      "100/100 [==============================] - 26s 255ms/step - loss: 0.1000 - acc: 0.9555 - val_loss: 0.1752 - val_acc: 0.9390\n",
      "Epoch 20/100\n",
      "100/100 [==============================] - 25s 254ms/step - loss: 0.1009 - acc: 0.9610 - val_loss: 0.2232 - val_acc: 0.9290\n",
      "Epoch 21/100\n",
      "100/100 [==============================] - 26s 257ms/step - loss: 0.0926 - acc: 0.9600 - val_loss: 0.1629 - val_acc: 0.9410\n",
      "Epoch 22/100\n",
      "100/100 [==============================] - 26s 255ms/step - loss: 0.0871 - acc: 0.9720 - val_loss: 0.1844 - val_acc: 0.9310\n",
      "Epoch 23/100\n",
      "100/100 [==============================] - 25s 253ms/step - loss: 0.0939 - acc: 0.9670 - val_loss: 0.1799 - val_acc: 0.9410\n",
      "Epoch 24/100\n",
      "100/100 [==============================] - 25s 253ms/step - loss: 0.0820 - acc: 0.9660 - val_loss: 0.1885 - val_acc: 0.9350\n",
      "Epoch 25/100\n",
      "100/100 [==============================] - 25s 253ms/step - loss: 0.0843 - acc: 0.9690 - val_loss: 0.1890 - val_acc: 0.9330\n",
      "Epoch 26/100\n",
      "100/100 [==============================] - 26s 255ms/step - loss: 0.0948 - acc: 0.9600 - val_loss: 0.1682 - val_acc: 0.9340\n",
      "Epoch 27/100\n",
      "100/100 [==============================] - 26s 256ms/step - loss: 0.0735 - acc: 0.9755 - val_loss: 0.1980 - val_acc: 0.9330\n",
      "Epoch 28/100\n",
      "100/100 [==============================] - 25s 253ms/step - loss: 0.0780 - acc: 0.9730 - val_loss: 0.1839 - val_acc: 0.9380\n",
      "Epoch 29/100\n",
      "100/100 [==============================] - 25s 255ms/step - loss: 0.0765 - acc: 0.9715 - val_loss: 0.2021 - val_acc: 0.9320\n",
      "Epoch 30/100\n",
      "100/100 [==============================] - 25s 254ms/step - loss: 0.0700 - acc: 0.9720 - val_loss: 0.1797 - val_acc: 0.9370\n",
      "Epoch 31/100\n",
      "100/100 [==============================] - 26s 258ms/step - loss: 0.0549 - acc: 0.9810 - val_loss: 0.2386 - val_acc: 0.9300\n",
      "Epoch 32/100\n",
      "100/100 [==============================] - 25s 255ms/step - loss: 0.0634 - acc: 0.9770 - val_loss: 0.1951 - val_acc: 0.9300\n",
      "Epoch 33/100\n",
      "100/100 [==============================] - 26s 257ms/step - loss: 0.0558 - acc: 0.9780 - val_loss: 0.2230 - val_acc: 0.9310\n",
      "Epoch 34/100\n",
      "100/100 [==============================] - 25s 255ms/step - loss: 0.0603 - acc: 0.9810 - val_loss: 0.1967 - val_acc: 0.9360\n",
      "Epoch 35/100\n",
      "100/100 [==============================] - 25s 252ms/step - loss: 0.0549 - acc: 0.9785 - val_loss: 0.1945 - val_acc: 0.9360\n",
      "Epoch 36/100\n",
      "100/100 [==============================] - 25s 255ms/step - loss: 0.0661 - acc: 0.9755 - val_loss: 0.1786 - val_acc: 0.9440\n",
      "Epoch 37/100\n",
      "100/100 [==============================] - 25s 252ms/step - loss: 0.0491 - acc: 0.9825 - val_loss: 0.2156 - val_acc: 0.9350\n",
      "Epoch 38/100\n",
      "100/100 [==============================] - 26s 260ms/step - loss: 0.0519 - acc: 0.9810 - val_loss: 0.2007 - val_acc: 0.9380\n",
      "Epoch 39/100\n",
      "100/100 [==============================] - 25s 253ms/step - loss: 0.0628 - acc: 0.9815 - val_loss: 0.1803 - val_acc: 0.9410\n",
      "Epoch 40/100\n",
      "100/100 [==============================] - 26s 257ms/step - loss: 0.0526 - acc: 0.9790 - val_loss: 0.2084 - val_acc: 0.9340\n",
      "Epoch 41/100\n",
      "100/100 [==============================] - 25s 253ms/step - loss: 0.0460 - acc: 0.9800 - val_loss: 0.2024 - val_acc: 0.9360\n",
      "Epoch 42/100\n",
      "100/100 [==============================] - 25s 254ms/step - loss: 0.0414 - acc: 0.9840 - val_loss: 0.1941 - val_acc: 0.9400\n",
      "Epoch 43/100\n",
      "100/100 [==============================] - 26s 260ms/step - loss: 0.0475 - acc: 0.9825 - val_loss: 0.2348 - val_acc: 0.9300\n",
      "Epoch 44/100\n",
      "100/100 [==============================] - 26s 256ms/step - loss: 0.0475 - acc: 0.9845 - val_loss: 0.1949 - val_acc: 0.9400\n",
      "Epoch 45/100\n",
      "100/100 [==============================] - 25s 254ms/step - loss: 0.0426 - acc: 0.9860 - val_loss: 0.2189 - val_acc: 0.9370\n",
      "Epoch 46/100\n",
      "100/100 [==============================] - 26s 259ms/step - loss: 0.0364 - acc: 0.9855 - val_loss: 0.2308 - val_acc: 0.9350\n",
      "Epoch 47/100\n",
      "100/100 [==============================] - 25s 253ms/step - loss: 0.0367 - acc: 0.9890 - val_loss: 0.2035 - val_acc: 0.9370\n",
      "Epoch 48/100\n",
      "100/100 [==============================] - 25s 254ms/step - loss: 0.0372 - acc: 0.9890 - val_loss: 0.2164 - val_acc: 0.9360\n",
      "Epoch 49/100\n",
      "100/100 [==============================] - 25s 252ms/step - loss: 0.0401 - acc: 0.9825 - val_loss: 0.2177 - val_acc: 0.9420\n",
      "Epoch 50/100\n",
      "100/100 [==============================] - 25s 254ms/step - loss: 0.0385 - acc: 0.9860 - val_loss: 0.2137 - val_acc: 0.9380\n",
      "Epoch 51/100\n",
      "100/100 [==============================] - 25s 253ms/step - loss: 0.0454 - acc: 0.9820 - val_loss: 0.2063 - val_acc: 0.9400\n",
      "Epoch 52/100\n",
      "100/100 [==============================] - 25s 254ms/step - loss: 0.0408 - acc: 0.9855 - val_loss: 0.2123 - val_acc: 0.9410\n",
      "Epoch 53/100\n",
      "100/100 [==============================] - 25s 253ms/step - loss: 0.0314 - acc: 0.9880 - val_loss: 0.2471 - val_acc: 0.9350\n",
      "Epoch 54/100\n",
      "100/100 [==============================] - 25s 253ms/step - loss: 0.0321 - acc: 0.9875 - val_loss: 0.2126 - val_acc: 0.9420\n",
      "Epoch 55/100\n",
      "100/100 [==============================] - 25s 254ms/step - loss: 0.0273 - acc: 0.9900 - val_loss: 0.2296 - val_acc: 0.9390\n",
      "Epoch 56/100\n",
      "100/100 [==============================] - 25s 253ms/step - loss: 0.0310 - acc: 0.9915 - val_loss: 0.2534 - val_acc: 0.9400\n",
      "Epoch 57/100\n",
      "100/100 [==============================] - 25s 252ms/step - loss: 0.0319 - acc: 0.9845 - val_loss: 0.2805 - val_acc: 0.9290\n",
      "Epoch 58/100\n",
      "100/100 [==============================] - 25s 254ms/step - loss: 0.0251 - acc: 0.9920 - val_loss: 0.3510 - val_acc: 0.9230\n",
      "Epoch 59/100\n",
      "100/100 [==============================] - 25s 253ms/step - loss: 0.0398 - acc: 0.9885 - val_loss: 0.2282 - val_acc: 0.9370\n",
      "Epoch 60/100\n",
      "100/100 [==============================] - 25s 253ms/step - loss: 0.0384 - acc: 0.9870 - val_loss: 0.2401 - val_acc: 0.9400\n"
     ]
    },
    {
     "name": "stdout",
     "output_type": "stream",
     "text": [
      "Epoch 61/100\n",
      "100/100 [==============================] - 25s 254ms/step - loss: 0.0381 - acc: 0.9875 - val_loss: 0.2516 - val_acc: 0.9380\n",
      "Epoch 62/100\n",
      "100/100 [==============================] - 26s 261ms/step - loss: 0.0344 - acc: 0.9855 - val_loss: 0.2141 - val_acc: 0.9430\n",
      "Epoch 63/100\n",
      "100/100 [==============================] - 25s 254ms/step - loss: 0.0352 - acc: 0.9865 - val_loss: 0.2748 - val_acc: 0.9320\n",
      "Epoch 64/100\n",
      "100/100 [==============================] - 25s 254ms/step - loss: 0.0277 - acc: 0.9915 - val_loss: 0.2533 - val_acc: 0.9380\n",
      "Epoch 65/100\n",
      "100/100 [==============================] - 26s 256ms/step - loss: 0.0315 - acc: 0.9910 - val_loss: 0.2616 - val_acc: 0.9380\n",
      "Epoch 66/100\n",
      "100/100 [==============================] - 26s 257ms/step - loss: 0.0274 - acc: 0.9920 - val_loss: 0.2997 - val_acc: 0.9310\n",
      "Epoch 67/100\n",
      "100/100 [==============================] - 25s 255ms/step - loss: 0.0239 - acc: 0.9925 - val_loss: 0.2873 - val_acc: 0.9370\n",
      "Epoch 68/100\n",
      "100/100 [==============================] - 26s 256ms/step - loss: 0.0207 - acc: 0.9920 - val_loss: 0.2914 - val_acc: 0.9330\n",
      "Epoch 69/100\n",
      "100/100 [==============================] - 26s 262ms/step - loss: 0.0276 - acc: 0.9875 - val_loss: 0.2618 - val_acc: 0.9410\n",
      "Epoch 70/100\n",
      "100/100 [==============================] - 26s 256ms/step - loss: 0.0224 - acc: 0.9910 - val_loss: 0.2530 - val_acc: 0.9330\n",
      "Epoch 71/100\n",
      "100/100 [==============================] - 25s 254ms/step - loss: 0.0263 - acc: 0.9920 - val_loss: 0.2670 - val_acc: 0.9370\n",
      "Epoch 72/100\n",
      "100/100 [==============================] - 25s 253ms/step - loss: 0.0229 - acc: 0.9895 - val_loss: 0.3479 - val_acc: 0.9220\n",
      "Epoch 73/100\n",
      "100/100 [==============================] - 25s 254ms/step - loss: 0.0316 - acc: 0.9875 - val_loss: 0.2512 - val_acc: 0.9420\n",
      "Epoch 74/100\n",
      "100/100 [==============================] - 25s 254ms/step - loss: 0.0226 - acc: 0.9920 - val_loss: 0.2516 - val_acc: 0.9400\n",
      "Epoch 75/100\n",
      "100/100 [==============================] - 25s 254ms/step - loss: 0.0249 - acc: 0.9920 - val_loss: 0.2220 - val_acc: 0.9390\n",
      "Epoch 76/100\n",
      "100/100 [==============================] - 25s 255ms/step - loss: 0.0298 - acc: 0.9895 - val_loss: 0.2345 - val_acc: 0.9380\n",
      "Epoch 77/100\n",
      "100/100 [==============================] - 25s 254ms/step - loss: 0.0174 - acc: 0.9940 - val_loss: 0.2497 - val_acc: 0.9350\n",
      "Epoch 78/100\n",
      "100/100 [==============================] - 25s 253ms/step - loss: 0.0219 - acc: 0.9930 - val_loss: 0.2884 - val_acc: 0.9400\n",
      "Epoch 79/100\n",
      "100/100 [==============================] - 25s 253ms/step - loss: 0.0291 - acc: 0.9880 - val_loss: 0.3311 - val_acc: 0.9310\n",
      "Epoch 80/100\n",
      "100/100 [==============================] - 25s 254ms/step - loss: 0.0262 - acc: 0.9900 - val_loss: 0.2824 - val_acc: 0.9380\n",
      "Epoch 81/100\n",
      "100/100 [==============================] - 26s 255ms/step - loss: 0.0272 - acc: 0.9920 - val_loss: 0.2978 - val_acc: 0.9290\n",
      "Epoch 82/100\n",
      "100/100 [==============================] - 26s 256ms/step - loss: 0.0240 - acc: 0.9895 - val_loss: 0.2518 - val_acc: 0.9410\n",
      "Epoch 83/100\n",
      "100/100 [==============================] - 25s 255ms/step - loss: 0.0170 - acc: 0.9940 - val_loss: 0.2617 - val_acc: 0.9410\n",
      "Epoch 84/100\n",
      "100/100 [==============================] - 26s 258ms/step - loss: 0.0178 - acc: 0.9955 - val_loss: 0.7096 - val_acc: 0.8900\n",
      "Epoch 85/100\n",
      "100/100 [==============================] - 26s 258ms/step - loss: 0.0266 - acc: 0.9895 - val_loss: 0.2707 - val_acc: 0.9430\n",
      "Epoch 86/100\n",
      "100/100 [==============================] - 25s 253ms/step - loss: 0.0170 - acc: 0.9925 - val_loss: 0.3747 - val_acc: 0.9320\n",
      "Epoch 87/100\n",
      "100/100 [==============================] - 26s 256ms/step - loss: 0.0261 - acc: 0.9920 - val_loss: 0.2626 - val_acc: 0.9430\n",
      "Epoch 88/100\n",
      "100/100 [==============================] - 25s 253ms/step - loss: 0.0213 - acc: 0.9925 - val_loss: 0.2386 - val_acc: 0.9480\n",
      "Epoch 89/100\n",
      "100/100 [==============================] - 25s 252ms/step - loss: 0.0157 - acc: 0.9945 - val_loss: 0.2542 - val_acc: 0.9470\n",
      "Epoch 90/100\n",
      "100/100 [==============================] - 26s 255ms/step - loss: 0.0202 - acc: 0.9940 - val_loss: 0.2702 - val_acc: 0.9420\n",
      "Epoch 91/100\n",
      "100/100 [==============================] - 26s 256ms/step - loss: 0.0272 - acc: 0.9910 - val_loss: 0.2762 - val_acc: 0.9390\n",
      "Epoch 92/100\n",
      "100/100 [==============================] - 26s 255ms/step - loss: 0.0215 - acc: 0.9905 - val_loss: 0.2732 - val_acc: 0.9420\n",
      "Epoch 93/100\n",
      "100/100 [==============================] - 25s 254ms/step - loss: 0.0175 - acc: 0.9945 - val_loss: 0.4309 - val_acc: 0.9210\n",
      "Epoch 94/100\n",
      "100/100 [==============================] - 25s 254ms/step - loss: 0.0213 - acc: 0.9920 - val_loss: 0.3551 - val_acc: 0.9250\n",
      "Epoch 95/100\n",
      "100/100 [==============================] - 25s 254ms/step - loss: 0.0106 - acc: 0.9955 - val_loss: 0.2993 - val_acc: 0.9400\n",
      "Epoch 96/100\n",
      "100/100 [==============================] - 25s 253ms/step - loss: 0.0194 - acc: 0.9940 - val_loss: 0.2720 - val_acc: 0.9400\n",
      "Epoch 97/100\n",
      "100/100 [==============================] - 25s 253ms/step - loss: 0.0121 - acc: 0.9950 - val_loss: 0.3580 - val_acc: 0.9340\n",
      "Epoch 98/100\n",
      "100/100 [==============================] - 25s 253ms/step - loss: 0.0147 - acc: 0.9950 - val_loss: 0.2980 - val_acc: 0.9400\n",
      "Epoch 99/100\n",
      "100/100 [==============================] - 25s 253ms/step - loss: 0.0244 - acc: 0.9935 - val_loss: 0.2441 - val_acc: 0.9450\n",
      "Epoch 100/100\n",
      "100/100 [==============================] - 25s 253ms/step - loss: 0.0181 - acc: 0.9935 - val_loss: 0.2319 - val_acc: 0.9420\n"
     ]
    }
   ],
   "source": [
    "model.compile(loss='binary_crossentropy',\n",
    "              optimizer=optimizers.RMSprop(lr=1e-5),\n",
    "              metrics=['acc'])\n",
    "\n",
    "history = model.fit_generator(\n",
    "    train_generator,\n",
    "    steps_per_epoch=100,\n",
    "    epochs=100,\n",
    "    validation_data=validation_generator,\n",
    "    validation_steps=50)"
   ]
  },
  {
   "cell_type": "code",
   "execution_count": 23,
   "metadata": {},
   "outputs": [],
   "source": [
    "model.save('cats_and_dogs_small_4.h5')"
   ]
  },
  {
   "cell_type": "code",
   "execution_count": 24,
   "metadata": {},
   "outputs": [
    {
     "data": {
      "image/png": "[encoded data removed]",
      "text/plain": [
       "<Figure size 432x288 with 1 Axes>"
      ]
     },
     "metadata": {},
     "output_type": "display_data"
    },
    {
     "data": {
      "image/png": "[encoded data removed]",
      "text/plain": [
       "<Figure size 432x288 with 1 Axes>"
      ]
     },
     "metadata": {},
     "output_type": "display_data"
    }
   ],
   "source": [
    "acc = history.history['acc']\n",
    "val_acc = history.history['val_acc']\n",
    "loss = history.history['loss']\n",
    "val_loss = history.history['val_loss']\n",
    "\n",
    "epochs = range(len(acc))\n",
    "\n",
    "plt.plot(epochs, acc, 'bo', label='Training acc')\n",
    "plt.plot(epochs, val_acc, 'b', label='Validation acc')\n",
    "plt.title('Training and validation accuracy')\n",
    "plt.legend()\n",
    "\n",
    "plt.figure()\n",
    "\n",
    "plt.plot(epochs, loss, 'bo', label='Training loss')\n",
    "plt.plot(epochs, val_loss, 'b', label='Validation loss')\n",
    "plt.title('Training and validation loss')\n",
    "plt.legend()\n",
    "\n",
    "plt.show()"
   ]
  },
  {
   "cell_type": "code",
   "execution_count": 25,
   "metadata": {},
   "outputs": [
    {
     "data": {
      "image/png": "[encoded data removed]",
      "text/plain": [
       "<Figure size 432x288 with 1 Axes>"
      ]
     },
     "metadata": {},
     "output_type": "display_data"
    },
    {
     "data": {
      "image/png": "[encoded data removed]",
      "text/plain": [
       "<Figure size 432x288 with 1 Axes>"
      ]
     },
     "metadata": {},
     "output_type": "display_data"
    }
   ],
   "source": [
    "def smooth_curve(points, factor=0.8):\n",
    "    smoothed_points = []\n",
    "    for point in points:\n",
    "        if smoothed_points:\n",
    "            previous = smoothed_points[-1]\n",
    "            smoothed_points.append(previous * factor + point * (1 - factor))\n",
    "        else:\n",
    "            smoothed_points.append(point)\n",
    "    return smoothed_points\n",
    "\n",
    "\n",
    "plt.plot(epochs, smooth_curve(acc), 'bo', label='Smoothed training acc')\n",
    "plt.plot(epochs, smooth_curve(val_acc), 'b', label='Smoothed validation acc')\n",
    "plt.title('Training and validation accuracy')\n",
    "plt.legend()\n",
    "\n",
    "plt.figure()\n",
    "\n",
    "plt.plot(epochs, smooth_curve(loss), 'bo', label='Smoothed training loss')\n",
    "plt.plot(epochs, smooth_curve(val_loss), 'b', label='Smoothed validation loss')\n",
    "plt.title('Training and validation loss')\n",
    "plt.legend()\n",
    "\n",
    "plt.show()"
   ]
  },
  {
   "cell_type": "code",
   "execution_count": 26,
   "metadata": {},
   "outputs": [
    {
     "name": "stdout",
     "output_type": "stream",
     "text": [
      "Found 1000 images belonging to 2 classes.\n",
      "test acc: 0.9389999902248383\n"
     ]
    }
   ],
   "source": [
    "test_generator = test_datagen.flow_from_directory(\n",
    "    test_dir,\n",
    "    target_size=(150, 150),\n",
    "    batch_size=20,\n",
    "    class_mode='binary')\n",
    "\n",
    "test_loss, test_acc = model.evaluate_generator(test_generator, steps=50)\n",
    "print('test acc:', test_acc)"
   ]
  },
  {
   "cell_type": "code",
   "execution_count": null,
   "metadata": {},
   "outputs": [],
   "source": []
  }
 ],
 "metadata": {
  "kernelspec": {
   "display_name": "Python [conda env:tensorflow_p36]",
   "language": "python",
   "name": "conda-env-tensorflow_p36-py"
  },
  "language_info": {
   "codemirror_mode": {
    "name": "ipython",
    "version": 3
   },
   "file_extension": ".py",
   "mimetype": "text/x-python",
   "name": "python",
   "nbconvert_exporter": "python",
   "pygments_lexer": "ipython3",
   "version": "3.6.6"
  }
 },
 "nbformat": 4,
 "nbformat_minor": 2
}
